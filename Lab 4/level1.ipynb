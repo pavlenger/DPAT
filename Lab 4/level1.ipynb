{
 "cells": [
  {
   "metadata": {},
   "cell_type": "markdown",
   "source": "FB-22, Venher Pavlo, lab 4, part 1",
   "id": "13e1102020f5ff74"
  },
  {
   "metadata": {},
   "cell_type": "markdown",
   "source": "Imports",
   "id": "4be086663a4c5fd1"
  },
  {
   "metadata": {},
   "cell_type": "code",
   "outputs": [],
   "execution_count": 6,
   "source": [
    "import pandas as pd\n",
    "import numpy as np\n",
    "import timeit as ti"
   ],
   "id": "172663bd4383c2fd"
  },
  {
   "metadata": {},
   "cell_type": "markdown",
   "source": "Prepare data",
   "id": "10e405991b81738f"
  },
  {
   "metadata": {},
   "cell_type": "code",
   "outputs": [],
   "execution_count": 11,
   "source": [
    "data_df = pd.read_csv('dbs/household_electric.csv', na_values='?', dtype={'Global_active_power': float, 'Global_reactive_power': float, 'Voltage': float, 'Global_intensity': float, 'Sub_metering_1': float, 'Sub_metering_2': float, 'Sub_metering_3': float})\n",
    "data_df = data_df.dropna()\n",
    "data_df['DateTime'] = pd.to_datetime(data_df['Date'] + ' ' + data_df['Time'], dayfirst=True)\n",
    "\n",
    "for column in data_df.columns[2:-1]:\n",
    "    data_df[column] = pd.to_numeric(data_df[column], errors='coerce')\n",
    "\n",
    "data_np = data_df.to_numpy()"
   ],
   "id": "250a5f56bdaf26dd"
  },
  {
   "metadata": {},
   "cell_type": "markdown",
   "source": "1",
   "id": "1d297b9dfdcf02b1"
  },
  {
   "metadata": {},
   "cell_type": "code",
   "outputs": [
    {
     "name": "stdout",
     "output_type": "stream",
     "text": [
      "Time np: 0.04048590001184493\n",
      "Time df: 0.00561829999787733\n"
     ]
    }
   ],
   "execution_count": 14,
   "source": [
    "def part1np(data):\n",
    "    return data[data[:, 2] > 5]\n",
    "\n",
    "def part2df(data):\n",
    "    return data[data['Global_active_power'] > 5]\n",
    "\n",
    "# print('np:\\n', task1_np(data_np)[:, [0, 1, 2]])\n",
    "print(\"Time np:\", ti.timeit(lambda: part1np(data_np), number=1))\n",
    "# print('df:\\n', task1_df(data_df)[['Date', 'Time', 'Global_active_power']])\n",
    "print(\"Time df:\", ti.timeit(lambda: part2df(data_df), number=1))"
   ],
   "id": "83d70c6c16ea1a6f"
  },
  {
   "metadata": {},
   "cell_type": "markdown",
   "source": "2",
   "id": "cf8c09593090b06c"
  },
  {
   "metadata": {},
   "cell_type": "code",
   "outputs": [
    {
     "name": "stdout",
     "output_type": "stream",
     "text": [
      "Time np: 0.2004750000196509\n",
      "Time df: 0.07971069996710867\n"
     ]
    }
   ],
   "execution_count": 17,
   "source": [
    "def part2np(data):\n",
    "    return data[data[:, 4] > 235]\n",
    "\n",
    "def part2df(data):\n",
    "    return data[data['Voltage'] > 235]\n",
    "\n",
    "# print('np:\\n', part2np(data_np)[:, [0, 1, 4]])\n",
    "print(\"Time np:\", ti.timeit(lambda: part2np(data_np), number=1))\n",
    "# print('df:\\n', part2df(data_df)[['Date', 'Time', 'Voltage']])\n",
    "print(\"Time df:\", ti.timeit(lambda: part2df(data_df), number=1))"
   ],
   "id": "fe865efb88d3eeab"
  },
  {
   "metadata": {},
   "cell_type": "markdown",
   "source": "3",
   "id": "a72f2c8d1cb6bb20"
  },
  {
   "metadata": {},
   "cell_type": "code",
   "outputs": [
    {
     "name": "stdout",
     "output_type": "stream",
     "text": [
      "Execution time with numpy array: 0.10584259999450296\n",
      "Execution time with DataFrame: 0.014366200019139796\n"
     ]
    }
   ],
   "execution_count": 20,
   "source": [
    "def part3np(data):\n",
    "    return data[(data[:, 5] >= 19) & (data[:, 5] <= 20) & (data[:, 7] > data[:, 8])]\n",
    "\n",
    "def part3df(data):\n",
    "    return data[(data['Global_intensity'] >= 19) & (data['Global_intensity'] <= 20) & (data['Sub_metering_2'] > data['Sub_metering_3'])]\n",
    "\n",
    "# print('np:\\n', task3_np(data_np)[:, [0, 1, 5, 7, 8]])\n",
    "print(\"Time np:\", ti.timeit(lambda: part3np(data_np), number=1))\n",
    "# print('df:\\n', task3_df(data_df)[['Date', 'Time', 'Global_intensity', 'Sub_metering_2', 'Sub_metering_3']])\n",
    "print(\"Time df:\", ti.timeit(lambda: part3df(data_df), number=1))"
   ],
   "id": "afe9b2d1b132f98b"
  },
  {
   "metadata": {},
   "cell_type": "markdown",
   "source": "4",
   "id": "69978513773a12ab"
  },
  {
   "metadata": {},
   "cell_type": "code",
   "outputs": [
    {
     "name": "stdout",
     "output_type": "stream",
     "text": [
      "Execution time with numpy array: 0.3833242999971844\n",
      "Execution time with DataFrame: 0.13659930002177134\n"
     ]
    }
   ],
   "execution_count": 21,
   "source": [
    "def part4np(data):\n",
    "    random_sample_np = data[np.random.choice(data_np.shape[0], size=500000, replace=False), :]\n",
    "    average_consumption = np.mean(random_sample_np[:, 6:9], axis=0)\n",
    "    return average_consumption\n",
    "\n",
    "def part4df(data):\n",
    "    random_sample_df = data.sample(n=500000, replace=False)\n",
    "    average_consumption = random_sample_df[['Sub_metering_1', 'Sub_metering_2', 'Sub_metering_3']].mean()\n",
    "    return average_consumption\n",
    "\n",
    "# print('np:\\n', part4np(data_np))\n",
    "print(\"Time np:\", ti.timeit(lambda: part4np(data_np), number=1))\n",
    "# print('df:\\n', part4df(data_df))\n",
    "print(\"Time df:\", ti.timeit(lambda: part4df(data_df), number=1))"
   ],
   "id": "5e5677c4532c07d4"
  },
  {
   "metadata": {},
   "cell_type": "markdown",
   "source": "5",
   "id": "67f8b1c0d8681a65"
  },
  {
   "metadata": {},
   "cell_type": "code",
   "outputs": [
    {
     "name": "stdout",
     "output_type": "stream",
     "text": [
      "Time np: 0.4773177999886684\n",
      "Time df: 0.15220399998361245\n"
     ]
    }
   ],
   "execution_count": 23,
   "source": [
    "def part5np(data):\n",
    "    hours = np.array([int(time.split(':')[0]) for time in data[:, 1]])\n",
    "    after_18 = data[hours >= 18]\n",
    "    high_power_consumption = after_18[after_18[:, 2].astype(float) > 6]\n",
    "    filtered_households = high_power_consumption[\n",
    "        (high_power_consumption[:, 6].astype(float) + \n",
    "         high_power_consumption[:, 7].astype(float) + \n",
    "         high_power_consumption[:, 8].astype(float)) > 6]\n",
    "    first_half = filtered_households[:len(filtered_households) // 2]\n",
    "    second_half = filtered_households[len(filtered_households) // 2:]\n",
    "    result = np.concatenate([first_half[::3], second_half[::4]])\n",
    "    return result\n",
    "\n",
    "def part5df(data):\n",
    "    df_after_18 = data[data['DateTime'].dt.hour >= 18]\n",
    "    average_power_consumption = df_after_18.groupby('DateTime')['Global_active_power'].mean()\n",
    "    high_power_consumption = average_power_consumption[average_power_consumption > 6]\n",
    "    filtered_households = data[data['DateTime'].isin(high_power_consumption.index)]\n",
    "    filtered_households = filtered_households[(filtered_households['Sub_metering_1'] + filtered_households['Sub_metering_2'] + filtered_households['Sub_metering_3']) > 6]\n",
    "    first_half = filtered_households.iloc[:len(filtered_households)//2]\n",
    "    second_half = filtered_households.iloc[len(filtered_households)//2:]\n",
    "    result = pd.concat([first_half.iloc[::3], second_half.iloc[::4]])\n",
    "    return result\n",
    "\n",
    "# print('np:\\n', part5np(data_np))\n",
    "print(\"Time np:\", ti.timeit(lambda: part5np(data_np), number=1))\n",
    "# print('df:\\n', part5df(data_df))\n",
    "print(\"Time df:\", ti.timeit(lambda: part5df(data_df), number=1))"
   ],
   "id": "7ade51ffb0eb96c1"
  }
 ],
 "metadata": {
  "kernelspec": {
   "display_name": "Python 3",
   "language": "python",
   "name": "python3"
  },
  "language_info": {
   "codemirror_mode": {
    "name": "ipython",
    "version": 2
   },
   "file_extension": ".py",
   "mimetype": "text/x-python",
   "name": "python",
   "nbconvert_exporter": "python",
   "pygments_lexer": "ipython2",
   "version": "2.7.6"
  }
 },
 "nbformat": 4,
 "nbformat_minor": 5
}
