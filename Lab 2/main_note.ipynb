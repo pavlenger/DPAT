{
 "cells": [
  {
   "cell_type": "markdown",
   "id": "ffb1a882-dca3-4122-8827-084c3be5fd54",
   "metadata": {},
   "source": [
    "Імпорти"
   ]
  },
  {
   "cell_type": "code",
   "execution_count": 1,
   "id": "7dee3a46-c51a-4158-8971-b43e10240fef",
   "metadata": {},
   "outputs": [],
   "source": [
    "import pandas as pd\n",
    "import urllib.request\n",
    "from datetime import datetime\n",
    "from os import listdir\n",
    "from datetime import datetime, date\n",
    "import csv"
   ]
  },
  {
   "cell_type": "markdown",
   "id": "f91ee013-6fcf-4eaa-96df-67db0fdf4d37",
   "metadata": {},
   "source": [
    "Змінні"
   ]
  },
  {
   "cell_type": "code",
   "execution_count": 2,
   "id": "78d3dff1-2b30-4761-8db3-0cc627fdaafa",
   "metadata": {},
   "outputs": [],
   "source": [
    "DIRECTORY = 'CSV_Files/'\n",
    "URL = ('https://www.star.nesdis.noaa.gov/smcd/emb/vci/VH/get_TS_admin.php?country=UKR&provinceID={'\n",
    "       '}&year1=1981&year2=2020&type=Mean')\n",
    "INDEXES = {1: 22, 2: 24, 3: 23, 4: 25, 5: 3, 6: 4, 7: 8, 8: 19, 9: 20, 10: 21, 11: 9, 13: 10, 14: 11, 15: 12, 16: 13,\n",
    "           17: 14, 18: 15, 19: 16, 21: 17, 22: 18, 24: 1, 25: 2, 26: 7, 27: 5, 28:6}"
   ]
  },
  {
   "cell_type": "markdown",
   "id": "8de4dde4-2575-4ce5-ac92-360f8b96f0c4",
   "metadata": {},
   "source": [
    "Завантаження файлів"
   ]
  },
  {
   "cell_type": "code",
   "execution_count": 3,
   "id": "6cca173e-cc30-41ab-aca6-ea13ccc25322",
   "metadata": {},
   "outputs": [
    {
     "name": "stdout",
     "output_type": "stream",
     "text": [
      "Success\n"
     ]
    }
   ],
   "source": [
    "for province_id in range(1, 29):\n",
    "    url = URL.format(province_id)\n",
    "    wp = urllib.request.urlopen(url)\n",
    "    text = wp.read()\n",
    "    now = datetime.now()\n",
    "    date_and_time_time = now.strftime(\"%d-%m-%Y_%H-%M-%S\")\n",
    "    out = open(DIRECTORY + 'NOAA_ID' + str(province_id) + '_' + date_and_time_time + '.csv', 'wb')\n",
    "    out.write(text)\n",
    "    out.close()\n",
    "    # print('File for ' + str(province_id))\n",
    "print('Success')"
   ]
  },
  {
   "cell_type": "markdown",
   "id": "de325fa5-cb82-4dfb-be1b-225ebcda83d3",
   "metadata": {},
   "source": [
    "Створення фрейму з файлів у папці"
   ]
  },
  {
   "cell_type": "code",
   "execution_count": 4,
   "id": "b25f767b-2bec-48e0-aa4a-a806eeda2b9b",
   "metadata": {},
   "outputs": [
    {
     "name": "stdout",
     "output_type": "stream",
     "text": [
      "['NOAA_ID19_11-03-2024_18-23-00.csv', 'NOAA_ID28_11-03-2024_18-23-07.csv', 'NOAA_ID3_11-03-2024_18-22-44.csv', 'NOAA_ID4_11-03-2024_18-22-46.csv', 'NOAA_ID5_11-03-2024_18-22-48.csv', 'NOAA_ID6_11-03-2024_18-22-48.csv', 'NOAA_ID7_11-03-2024_18-22-49.csv', 'NOAA_ID8_11-03-2024_18-22-50.csv', 'NOAA_ID9_11-03-2024_18-22-51.csv', 'NOAA_ID10_11-03-2024_18-22-52.csv', 'NOAA_ID11_11-03-2024_18-22-53.csv', 'NOAA_ID12_11-03-2024_18-22-54.csv', 'NOAA_ID13_11-03-2024_18-22-55.csv', 'NOAA_ID14_11-03-2024_18-22-55.csv', 'NOAA_ID15_11-03-2024_18-22-56.csv', 'NOAA_ID16_11-03-2024_18-22-57.csv', 'NOAA_ID17_11-03-2024_18-22-58.csv', 'NOAA_ID18_11-03-2024_18-22-59.csv', 'NOAA_ID19_11-03-2024_18-23-00.csv', 'NOAA_ID20_11-03-2024_18-23-00.csv', 'NOAA_ID21_11-03-2024_18-23-01.csv', 'NOAA_ID22_11-03-2024_18-23-02.csv', 'NOAA_ID23_11-03-2024_18-23-03.csv', 'NOAA_ID24_11-03-2024_18-23-04.csv', 'NOAA_ID25_11-03-2024_18-23-05.csv', 'NOAA_ID26_11-03-2024_18-23-05.csv', 'NOAA_ID27_11-03-2024_18-23-06.csv', 'NOAA_ID28_11-03-2024_18-23-07.csv']\n"
     ]
    }
   ],
   "source": [
    "\n",
    "res = []\n",
    "\n",
    "for i in range(1,29):\n",
    "    date_of_file = datetime(1970, 1, 1, 22, 22, 22)\n",
    "    file = \"\"\n",
    "    for file_path in listdir(DIRECTORY):\n",
    "        if file_path.endswith('.csv') and \"ID\" + str(i) in file_path:\n",
    "            file_datetime = file_path.split(\"_\")[2] + \"_\" + file_path.split(\"_\")[3][:8]\n",
    "            format_str = \"%d-%m-%Y_%H-%M-%S\"\n",
    "            obj_date = datetime.strptime(file_datetime, format_str)\n",
    "            if obj_date > date_of_file:\n",
    "                file = file_path\n",
    "                date_of_file = obj_date\n",
    "    res.append(file)\n",
    "print(res)\n",
    "\n",
    "headers = ['Year', 'Week', 'SMN', 'SMT', 'VCI', 'TCI', 'VHI', 'empty']\n",
    "df_list = []\n",
    "\n",
    "for filename in res:\n",
    "    df = pd.read_csv(DIRECTORY + filename, header=1, names=headers)\n",
    "    id = filename.split(\"_\")[1][2:]\n",
    "    df.at[0, 'Year'] =  df.at[0, 'Year'][9:]\n",
    "    df = df.drop(df.index[-1])\n",
    "    df = df.drop(df.loc[df['VHI'] == -1].index)\n",
    "    df = df.drop('empty', axis=1)\n",
    "    df['area'] = int(id)\n",
    "    df_list.append(df)\n",
    "df = pd.concat(df_list)"
   ]
  },
  {
   "cell_type": "markdown",
   "id": "ec02c982-c15a-4206-8b1c-5eb07b774df5",
   "metadata": {},
   "source": [
    "Зміна індексів"
   ]
  },
  {
   "cell_type": "code",
   "execution_count": 5,
   "id": "294d7fea-f608-48d9-9805-f55fc54b4471",
   "metadata": {},
   "outputs": [],
   "source": [
    "df.replace({'area': INDEXES}, inplace=True)"
   ]
  },
  {
   "cell_type": "markdown",
   "id": "d8b46a82-30e8-44de-aba5-df3a839a2dd1",
   "metadata": {},
   "source": [
    "Перша процедура"
   ]
  },
  {
   "cell_type": "code",
   "execution_count": 6,
   "id": "8c8db2f4-165b-476a-9f19-e2255f85a58f",
   "metadata": {},
   "outputs": [],
   "source": [
    "def procedure_1(df, year, province_n):\n",
    "    df_new = df[(df.area == province_n) & (df.Year.astype(str) == str(year))]['VHI']\n",
    "    print('For ' + str(year) + ' and the province ' + str(province_n) + ':')\n",
    "    print('Min: ' + str(df_new.min()))\n",
    "    print('Max: ' + str(df_new.max()))"
   ]
  },
  {
   "cell_type": "markdown",
   "id": "4f65d87b-ebee-48d5-9307-5b5226859353",
   "metadata": {},
   "source": [
    "Друга процедура"
   ]
  },
  {
   "cell_type": "code",
   "execution_count": 7,
   "id": "293e03f4-9ab3-47af-a21b-0f71f570e46e",
   "metadata": {},
   "outputs": [],
   "source": [
    "def procedure_2(df, province_n, percent=50):\n",
    "    df_drought = df[(df[\"area\"] == province_n) & (df.VHI <= percent)]\n",
    "    list_from_ds = list(df_drought.Year)\n",
    "    years = []\n",
    "    [years.append(item) for item in list_from_ds if item not in years]\n",
    "    print('For the province ' + str(province_n) + ' extreme drought is in:')\n",
    "    print('Years: ' + ' '.join(years))"
   ]
  },
  {
   "cell_type": "markdown",
   "id": "b6fcf1a9-a8bc-4e74-b227-c629da6860d7",
   "metadata": {},
   "source": [
    "Третя процедура"
   ]
  },
  {
   "cell_type": "code",
   "execution_count": 8,
   "id": "d4d39513-7694-405b-a42c-f2a6d6ff7c86",
   "metadata": {},
   "outputs": [],
   "source": [
    "def procedure_3(df, province_n):\n",
    "    df_drought = df[(df[\"area\"] == province_n) & (df.VHI <= 35) & (df.VHI > 15)]\n",
    "    list_from_ds = list(df_drought.Year)\n",
    "    years = []\n",
    "    [years.append(item) for item in list_from_ds if item not in years]\n",
    "    print('For the province ' + str(province_n) + ' moderate drought is in:')\n",
    "    print('Years: ' + ' '.join(years))"
   ]
  },
  {
   "cell_type": "markdown",
   "id": "84d2c3d8-32fb-4062-9d82-3578b524e27e",
   "metadata": {},
   "source": [
    "Завантаження всіх файлів"
   ]
  },
  {
   "cell_type": "code",
   "execution_count": 9,
   "id": "b3cc1361-dd2a-4232-96e2-8ce1944ff971",
   "metadata": {},
   "outputs": [
    {
     "name": "stdout",
     "output_type": "stream",
     "text": [
      "For 1999 and the province 1:\n",
      "Min: 22.25\n",
      "Max: 62.36\n",
      "For 1999 and the province 2:\n",
      "Min: 22.41\n",
      "Max: 64.03\n",
      "For 1999 and the province 3:\n",
      "Min: 34.45\n",
      "Max: 66.66\n",
      "For 1999 and the province 4:\n",
      "Min: 21.56\n",
      "Max: 58.85\n",
      "For 1999 and the province 5:\n",
      "Min: 23.34\n",
      "Max: 69.05\n",
      "For 1999 and the province 6:\n",
      "Min: 25.61\n",
      "Max: 62.67\n",
      "For 1999 and the province 7:\n",
      "Min: 31.99\n",
      "Max: 69.05\n",
      "For 1999 and the province 8:\n",
      "Min: 36.98\n",
      "Max: 66.02\n",
      "For 1999 and the province 9:\n",
      "Min: 21.31\n",
      "Max: 67.42\n",
      "For 1999 and the province 10:\n",
      "Min: 33.23\n",
      "Max: 70.57\n",
      "For 1999 and the province 11:\n",
      "Min: 33.59\n",
      "Max: 57.32\n",
      "For 1999 and the province 12:\n",
      "Min: 12.88\n",
      "Max: 66.08\n",
      "For 1999 and the province 13:\n",
      "Min: 36.31\n",
      "Max: 80.35\n",
      "For 1999 and the province 14:\n",
      "Min: 29.32\n",
      "Max: 76.21\n",
      "For 1999 and the province 15:\n",
      "Min: 29.94\n",
      "Max: 63.09\n",
      "For 1999 and the province 16:\n",
      "Min: 22.27\n",
      "Max: 67.37\n",
      "For 1999 and the province 17:\n",
      "Min: 24.89\n",
      "Max: 69.55\n",
      "For 1999 and the province 18:\n",
      "Min: 36.23\n",
      "Max: 72.98\n",
      "For 1999 and the province 19:\n",
      "Min: 27.63\n",
      "Max: 62.69\n"
     ]
    }
   ],
   "source": [
    "for i in range(1, 20):\n",
    "    procedure_1(df, 1999, i)"
   ]
  },
  {
   "cell_type": "code",
   "execution_count": 10,
   "id": "a732fe4c-b9e8-45c8-a291-a0adecd17f8a",
   "metadata": {},
   "outputs": [
    {
     "name": "stdout",
     "output_type": "stream",
     "text": [
      "For the province 3 extreme drought is in:\n",
      "Years: 1982 1983 1984 1985 1986 1987 1988 1989 1990 1991 1992 1993 1994 1995 1996 1997 1998 1999 2000 2001 2002 2003 2004 2005 2006 2007 2008 2009 2010 2011 2012 2013 2014 2015 2016 2017 2018 2019 2020\n"
     ]
    }
   ],
   "source": [
    "procedure_2(df, 3)"
   ]
  },
  {
   "cell_type": "code",
   "execution_count": 11,
   "id": "b5dc9683-54cf-454b-bacd-f10fa3b6c6d7",
   "metadata": {},
   "outputs": [
    {
     "name": "stdout",
     "output_type": "stream",
     "text": [
      "For the province 3 moderate drought is in:\n",
      "Years: 1982 1983 1984 1985 1986 1988 1989 1990 1992 1993 1994 1995 1996 1997 1999 2000 2001 2002 2003 2005 2006 2007 2008 2010 2011 2012 2013 2014 2015 2016 2017 2018 2019 2020\n"
     ]
    }
   ],
   "source": [
    "procedure_3(df, 3)"
   ]
  },
  {
   "cell_type": "code",
   "execution_count": null,
   "id": "42181d32-1b42-448c-abf3-a7b5dd0491bf",
   "metadata": {},
   "outputs": [],
   "source": []
  }
 ],
 "metadata": {
  "kernelspec": {
   "display_name": "Python 3 (ipykernel)",
   "language": "python",
   "name": "python3"
  },
  "language_info": {
   "codemirror_mode": {
    "name": "ipython",
    "version": 3
   },
   "file_extension": ".py",
   "mimetype": "text/x-python",
   "name": "python",
   "nbconvert_exporter": "python",
   "pygments_lexer": "ipython3",
   "version": "3.12.2"
  }
 },
 "nbformat": 4,
 "nbformat_minor": 5
}
