{
 "cells": [
  {
   "cell_type": "markdown",
   "id": "ffb1a882-dca3-4122-8827-084c3be5fd54",
   "metadata": {},
   "source": [
    "Імпорти"
   ]
  },
  {
   "cell_type": "code",
   "execution_count": 1,
   "id": "7dee3a46-c51a-4158-8971-b43e10240fef",
   "metadata": {},
   "outputs": [],
   "source": [
    "import pandas as pd\n",
    "import urllib.request\n",
    "from datetime import datetime\n",
    "from os import walk\n",
    "import csv"
   ]
  },
  {
   "cell_type": "markdown",
   "id": "f91ee013-6fcf-4eaa-96df-67db0fdf4d37",
   "metadata": {},
   "source": [
    "Змінні"
   ]
  },
  {
   "cell_type": "code",
   "execution_count": 2,
   "id": "78d3dff1-2b30-4761-8db3-0cc627fdaafa",
   "metadata": {},
   "outputs": [],
   "source": [
    "DIRECTORY = 'CSV_Files/'\n",
    "URL = ('https://www.star.nesdis.noaa.gov/smcd/emb/vci/VH/get_TS_admin.php?country=UKR&provinceID={'\n",
    "       '}&year1=1981&year2=2020&type=Mean')\n",
    "INDEXES = {1: 22, 2: 24, 3: 23, 4: 25, 5: 3, 6: 4, 7: 8, 8: 19, 9: 20, 10: 21, 11: 9, 13: 10, 14: 11, 15: 12, 16: 13,\n",
    "           17: 14, 18: 15, 19: 16, 21: 17, 22: 18, 24: 1, 25: 2, 26: 7, 27: 5}"
   ]
  },
  {
   "cell_type": "markdown",
   "id": "8de4dde4-2575-4ce5-ac92-360f8b96f0c4",
   "metadata": {},
   "source": [
    "Завантаження файлів"
   ]
  },
  {
   "cell_type": "code",
   "execution_count": 3,
   "id": "6cca173e-cc30-41ab-aca6-ea13ccc25322",
   "metadata": {},
   "outputs": [
    {
     "name": "stdout",
     "output_type": "stream",
     "text": [
      "Success\n"
     ]
    }
   ],
   "source": [
    "for province_id in range(1, 29):\n",
    "    url = URL.format(province_id)\n",
    "    wp = urllib.request.urlopen(url)\n",
    "    text = wp.read()\n",
    "    now = datetime.now()\n",
    "    date_and_time_time = now.strftime(\"%d-%m-%Y_%H-%M-%S\")\n",
    "    out = open(DIRECTORY + 'NOAA_ID' + str(province_id) + '_' + date_and_time_time + '.csv', 'wb')\n",
    "    out.write(text)\n",
    "    out.close()\n",
    "    # print('File for ' + str(province_id))\n",
    "print('Success')"
   ]
  },
  {
   "cell_type": "markdown",
   "id": "de325fa5-cb82-4dfb-be1b-225ebcda83d3",
   "metadata": {},
   "source": [
    "Створення фрейму з файлів у папці"
   ]
  },
  {
   "cell_type": "code",
   "execution_count": 5,
   "id": "b25f767b-2bec-48e0-aa4a-a806eeda2b9b",
   "metadata": {},
   "outputs": [],
   "source": [
    "headers = ['Year', 'Week', 'SMN', 'SMT', 'VCI', 'TCI', 'VHI', 'empty']\n",
    "i = 1\n",
    "df_list = []\n",
    "for (dirpath, dirnames, filenames) in walk(DIRECTORY):\n",
    "    for filename in filenames:\n",
    "        df = pd.read_csv(DIRECTORY + filename, header=1, names=headers)\n",
    "        df.at[0, 'Year'] =  df.at[0, 'Year'][9:]\n",
    "        df = df.drop(df.index[-1])\n",
    "        df = df.drop(df.loc[df['VHI'] == -1].index)\n",
    "        df = df.drop('empty', axis=1)\n",
    "        df['area'] = i\n",
    "        i += 1\n",
    "        df_list.append(df)\n",
    "df = pd.concat(df_list)"
   ]
  },
  {
   "cell_type": "markdown",
   "id": "ec02c982-c15a-4206-8b1c-5eb07b774df5",
   "metadata": {},
   "source": [
    "Зміна індексів"
   ]
  },
  {
   "cell_type": "code",
   "execution_count": 6,
   "id": "294d7fea-f608-48d9-9805-f55fc54b4471",
   "metadata": {},
   "outputs": [],
   "source": [
    "df.replace({'area': INDEXES}, inplace=True)"
   ]
  },
  {
   "cell_type": "markdown",
   "id": "d8b46a82-30e8-44de-aba5-df3a839a2dd1",
   "metadata": {},
   "source": [
    "Перша процедура"
   ]
  },
  {
   "cell_type": "code",
   "execution_count": 7,
   "id": "8c8db2f4-165b-476a-9f19-e2255f85a58f",
   "metadata": {},
   "outputs": [],
   "source": [
    "def procedure_1(df, year, province_n):\n",
    "    df_new = df[(df.area == province_n) & (df.Year.astype(str) == str(year))]['VHI']\n",
    "    print('For ' + str(year) + ' and the province ' + str(province_n) + ':')\n",
    "    print('Min: ' + str(df_new.min()))\n",
    "    print('Max: ' + str(df_new.max()))"
   ]
  },
  {
   "cell_type": "markdown",
   "id": "4f65d87b-ebee-48d5-9307-5b5226859353",
   "metadata": {},
   "source": [
    "Друга процедура"
   ]
  },
  {
   "cell_type": "code",
   "execution_count": 8,
   "id": "293e03f4-9ab3-47af-a21b-0f71f570e46e",
   "metadata": {},
   "outputs": [],
   "source": [
    "def procedure_2(df, province_n, percent=50):\n",
    "    df_drought = df[(df[\"area\"] == province_n) & (df.VHI <= percent)]\n",
    "    list_from_ds = list(df_drought.Year)\n",
    "    years = []\n",
    "    [years.append(item) for item in list_from_ds if item not in years]\n",
    "    print('For the province ' + str(province_n) + ' extreme drought is in:')\n",
    "    print('Years: ' + ' '.join(years))"
   ]
  },
  {
   "cell_type": "markdown",
   "id": "b6fcf1a9-a8bc-4e74-b227-c629da6860d7",
   "metadata": {},
   "source": [
    "Третя процедура"
   ]
  },
  {
   "cell_type": "code",
   "execution_count": 9,
   "id": "d4d39513-7694-405b-a42c-f2a6d6ff7c86",
   "metadata": {},
   "outputs": [],
   "source": [
    "def procedure_3(df, province_n):\n",
    "    df_drought = df[(df[\"area\"] == province_n) & (df.VHI <= 35) & (df.VHI > 15)]\n",
    "    list_from_ds = list(df_drought.Year)\n",
    "    years = []\n",
    "    [years.append(item) for item in list_from_ds if item not in years]\n",
    "    print('For the province ' + str(province_n) + ' moderate drought is in:')\n",
    "    print('Years: ' + ' '.join(years))"
   ]
  },
  {
   "cell_type": "markdown",
   "id": "84d2c3d8-32fb-4062-9d82-3578b524e27e",
   "metadata": {},
   "source": [
    "Завантаження всіх файлів"
   ]
  },
  {
   "cell_type": "code",
   "execution_count": 10,
   "id": "b3cc1361-dd2a-4232-96e2-8ce1944ff971",
   "metadata": {},
   "outputs": [
    {
     "name": "stdout",
     "output_type": "stream",
     "text": [
      "For 2000 and the province 3:\n",
      "Min: 22.92\n",
      "Max: 74.06\n"
     ]
    }
   ],
   "source": [
    "procedure_1(df, 2000, 3)"
   ]
  },
  {
   "cell_type": "code",
   "execution_count": null,
   "id": "a732fe4c-b9e8-45c8-a291-a0adecd17f8a",
   "metadata": {},
   "outputs": [],
   "source": [
    "procedure_2(df, 3)"
   ]
  },
  {
   "cell_type": "code",
   "execution_count": null,
   "id": "b5dc9683-54cf-454b-bacd-f10fa3b6c6d7",
   "metadata": {},
   "outputs": [],
   "source": [
    "procedure_3(df, 3)"
   ]
  }
 ],
 "metadata": {
  "kernelspec": {
   "display_name": "Python 3 (ipykernel)",
   "language": "python",
   "name": "python3"
  },
  "language_info": {
   "codemirror_mode": {
    "name": "ipython",
    "version": 3
   },
   "file_extension": ".py",
   "mimetype": "text/x-python",
   "name": "python",
   "nbconvert_exporter": "python",
   "pygments_lexer": "ipython3",
   "version": "3.12.2"
  }
 },
 "nbformat": 4,
 "nbformat_minor": 5
}
