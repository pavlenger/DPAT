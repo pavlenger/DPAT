{
 "cells": [
  {
   "cell_type": "markdown",
   "id": "ffb1a882-dca3-4122-8827-084c3be5fd54",
   "metadata": {},
   "source": [
    "Імпорти"
   ]
  },
  {
   "cell_type": "code",
   "execution_count": null,
   "id": "7dee3a46-c51a-4158-8971-b43e10240fef",
   "metadata": {},
   "outputs": [],
   "source": [
    "import pandas as pd\n",
    "import urllib.request\n",
    "from datetime import datetime\n",
    "from constants import *\n",
    "from os import walk"
   ]
  },
  {
   "cell_type": "markdown",
   "id": "f91ee013-6fcf-4eaa-96df-67db0fdf4d37",
   "metadata": {},
   "source": [
    "Змінні"
   ]
  },
  {
   "cell_type": "code",
   "execution_count": 15,
   "id": "78d3dff1-2b30-4761-8db3-0cc627fdaafa",
   "metadata": {},
   "outputs": [],
   "source": [
    "DIRECTORY = 'CSV_Files/'\n",
    "URL = ('https://www.star.nesdis.noaa.gov/smcd/emb/vci/VH/get_TS_admin.php?country=UKR&provinceID={'\n",
    "       '}&year1=1981&year2=2020&type=Mean')\n",
    "INDEXES = {1: 22, 2: 24, 3: 23, 4: 25, 5: 3, 6: 4, 7: 8, 8: 19, 9: 20, 10: 21, 11: 9, 13: 10, 14: 11, 15: 12, 16: 13,\n",
    "           17: 14, 18: 15, 19: 16, 21: 17, 22: 18, 24: 1, 25: 2, 26: 7, 27: 5}"
   ]
  },
  {
   "cell_type": "markdown",
   "id": "8de4dde4-2575-4ce5-ac92-360f8b96f0c4",
   "metadata": {},
   "source": [
    "Завантаження файлів"
   ]
  },
  {
   "cell_type": "code",
   "execution_count": 16,
   "id": "6cca173e-cc30-41ab-aca6-ea13ccc25322",
   "metadata": {},
   "outputs": [],
   "source": [
    "def download_file(province_id):\n",
    "    url = URL.format(province_id)\n",
    "    wp = urllib.request.urlopen(url)\n",
    "    text = wp.read()\n",
    "    now = datetime.now()\n",
    "    date_and_time_time = now.strftime(\"%d-%m-%Y_%H-%M-%S\")\n",
    "    out = open(DIRECTORY + 'NOAA_ID' + str(province_id) + '_' + date_and_time_time + '.csv', 'wb')\n",
    "    out.write(text)\n",
    "    out.close()\n",
    "    print('File for ' + str(province_id))\n",
    "    "
   ]
  },
  {
   "cell_type": "markdown",
   "id": "de325fa5-cb82-4dfb-be1b-225ebcda83d3",
   "metadata": {},
   "source": [
    "Створення фрейму з файлів у папці"
   ]
  },
  {
   "cell_type": "code",
   "execution_count": 17,
   "id": "b25f767b-2bec-48e0-aa4a-a806eeda2b9b",
   "metadata": {},
   "outputs": [],
   "source": [
    "def create_frame(directory):\n",
    "    \"\"\"\n",
    "create dataframe from all files in directory\n",
    "    :param directory: path to directory\n",
    "    :return: dataframe with all files in directory\n",
    "    \"\"\"\n",
    "    headers = ['Year', 'Week', 'SMN', 'SMT', 'VCI', 'TCI', 'VHI', 'empty']\n",
    "    i = 1\n",
    "    df_list = []\n",
    "    for (dirpath, dirnames, filenames) in walk(DIRECTORY):\n",
    "        for filename in filenames:\n",
    "            df = pd.read_csv(directory + filename, header=1, names=headers)\n",
    "            df = df.drop(df.loc[df['VHI'] == -1].index)\n",
    "            df['area'] = i\n",
    "            i += 1\n",
    "            df_list.append(df)\n",
    "    return pd.concat(df_list)"
   ]
  },
  {
   "cell_type": "markdown",
   "id": "ec02c982-c15a-4206-8b1c-5eb07b774df5",
   "metadata": {},
   "source": [
    "Зміна індексів"
   ]
  },
  {
   "cell_type": "code",
   "execution_count": 18,
   "id": "294d7fea-f608-48d9-9805-f55fc54b4471",
   "metadata": {},
   "outputs": [],
   "source": [
    "def change_indexes(df):\n",
    "    \"\"\"\n",
    "change indexes of areas in dataframe    :param df:  with all files\n",
    "    \"\"\"\n",
    "    df.replace({'area': INDEXES}, inplace=True)"
   ]
  },
  {
   "cell_type": "markdown",
   "id": "50b62795-c658-4944-931e-4cfa1c260d3f",
   "metadata": {},
   "source": [
    "Перша процедура"
   ]
  },
  {
   "cell_type": "code",
   "execution_count": 19,
   "id": "8c8db2f4-165b-476a-9f19-e2255f85a58f",
   "metadata": {},
   "outputs": [],
   "source": [
    "def procedure_1(df, year, province_n):\n",
    "    \"\"\"\n",
    "display min and max values of VHI by province id and year\n",
    "    :param df: dataframe with all files\n",
    "    :param year: year of data\n",
    "    :param province_n: province id of data\n",
    "    \"\"\"\n",
    "    df_new = df[(df.area == province_n) & (df.VHI != -1) & (df.Year.astype(str) == str(year))]['VHI']\n",
    "    print('For ' + str(year) + ' and the province ' + str(province_n) + ':')\n",
    "    print('Min: ' + str(df_new.min()))\n",
    "    print('Max: ' + str(df_new.max()))"
   ]
  },
  {
   "cell_type": "markdown",
   "id": "4f65d87b-ebee-48d5-9307-5b5226859353",
   "metadata": {},
   "source": [
    "Друга процедура"
   ]
  },
  {
   "cell_type": "code",
   "execution_count": 20,
   "id": "293e03f4-9ab3-47af-a21b-0f71f570e46e",
   "metadata": {},
   "outputs": [],
   "source": [
    "def procedure_2(df, province_n):\n",
    "    \"\"\"\n",
    "display years with extreme drought by province id\n",
    "    :param df: dataframe with all files\n",
    "    :param province_n: province id of data\n",
    "    \"\"\"\n",
    "    df_drought = df[(df[\"area\"] == province_n) & (df.VHI <= 15) & (df.VHI != -1)]\n",
    "    list_from_ds = list(df_drought.Year)\n",
    "    years = []\n",
    "    [years.append(item) for item in list_from_ds if item not in years]\n",
    "    print('For the province ' + str(province_n) + ' extreme drought is in:')\n",
    "    print('Years: ' + ' '.join(years))"
   ]
  },
  {
   "cell_type": "markdown",
   "id": "b6fcf1a9-a8bc-4e74-b227-c629da6860d7",
   "metadata": {},
   "source": [
    "Третя процедура"
   ]
  },
  {
   "cell_type": "code",
   "execution_count": 21,
   "id": "d4d39513-7694-405b-a42c-f2a6d6ff7c86",
   "metadata": {},
   "outputs": [],
   "source": [
    "def procedure_3(df, province_n):\n",
    "    \"\"\"\n",
    "display years with moderate drought by province id\n",
    "    :param df: dataframe with all files\n",
    "    :param province_n: province id of data\n",
    "    \"\"\"\n",
    "    df_drought = df[(df[\"area\"] == province_n) & (df.VHI <= 35) & (df.VHI > 15) & (df.VHI != -1)]\n",
    "    list_from_ds = list(df_drought.Year)\n",
    "    years = []\n",
    "    [years.append(item) for item in list_from_ds if item not in years]\n",
    "    print('For the province ' + str(province_n) + ' moderate drought is in:')\n",
    "    print('Years: ' + ' '.join(years))"
   ]
  },
  {
   "cell_type": "markdown",
   "id": "84d2c3d8-32fb-4062-9d82-3578b524e27e",
   "metadata": {},
   "source": [
    "Завантаження всіх файлів"
   ]
  },
  {
   "cell_type": "code",
   "execution_count": 22,
   "id": "327a692f-9e63-4667-b92d-a94ca6e9996f",
   "metadata": {},
   "outputs": [
    {
     "name": "stdout",
     "output_type": "stream",
     "text": [
      "File for 1\n",
      "File for 2\n",
      "File for 3\n",
      "File for 4\n",
      "File for 5\n",
      "File for 6\n",
      "File for 7\n",
      "File for 8\n",
      "File for 9\n",
      "File for 10\n",
      "File for 11\n",
      "File for 12\n",
      "File for 13\n",
      "File for 14\n",
      "File for 15\n",
      "File for 16\n",
      "File for 17\n",
      "File for 18\n",
      "File for 19\n",
      "File for 20\n",
      "File for 21\n",
      "File for 22\n",
      "File for 23\n",
      "File for 24\n",
      "File for 25\n",
      "File for 26\n",
      "File for 27\n",
      "File for 28\n",
      "Success\n"
     ]
    }
   ],
   "source": [
    "for province_n in range(1, 29):\n",
    "    download_file(province_n)\n",
    "print('Success')"
   ]
  },
  {
   "cell_type": "code",
   "execution_count": 23,
   "id": "3b41c215-3746-4e5c-9a64-9bea15b353b4",
   "metadata": {},
   "outputs": [],
   "source": [
    "df = create_frame(DIRECTORY)\n",
    "change_indexes(df)"
   ]
  },
  {
   "cell_type": "code",
   "execution_count": 24,
   "id": "b05fb054-a8b6-42c5-8592-122389cfdf58",
   "metadata": {},
   "outputs": [
    {
     "name": "stdout",
     "output_type": "stream",
     "text": [
      "For 1990 and the province 3:\n",
      "Min: 19.5\n",
      "Max: 60.62\n"
     ]
    }
   ],
   "source": [
    "procedure_1(df, 1990, 3)"
   ]
  },
  {
   "cell_type": "code",
   "execution_count": 25,
   "id": "a732fe4c-b9e8-45c8-a291-a0adecd17f8a",
   "metadata": {},
   "outputs": [
    {
     "name": "stdout",
     "output_type": "stream",
     "text": [
      "For the province 3 extreme drought is in:\n",
      "Years: 1986 1993\n"
     ]
    }
   ],
   "source": [
    "procedure_2(df, 3)"
   ]
  },
  {
   "cell_type": "code",
   "execution_count": 26,
   "id": "b5dc9683-54cf-454b-bacd-f10fa3b6c6d7",
   "metadata": {},
   "outputs": [
    {
     "name": "stdout",
     "output_type": "stream",
     "text": [
      "For the province 3 moderate drought is in:\n",
      "Years: 1982 1983 1984 1985 1986 1987 1988 1989 1990 1991 1992 1993 1994 1995 1996 1997 1999 2000 2002 2003 2006 2007 2008 2010 2011 2012 2015 2017 2018 2019 2020\n"
     ]
    }
   ],
   "source": [
    "procedure_3(df, 3)"
   ]
  },
  {
   "cell_type": "code",
   "execution_count": null,
   "id": "d3d37468-72c1-425b-a2a2-46ce319d5ad9",
   "metadata": {},
   "outputs": [],
   "source": []
  }
 ],
 "metadata": {
  "kernelspec": {
   "display_name": "Python 3 (ipykernel)",
   "language": "python",
   "name": "python3"
  },
  "language_info": {
   "codemirror_mode": {
    "name": "ipython",
    "version": 3
   },
   "file_extension": ".py",
   "mimetype": "text/x-python",
   "name": "python",
   "nbconvert_exporter": "python",
   "pygments_lexer": "ipython3",
   "version": "3.12.2"
  }
 },
 "nbformat": 4,
 "nbformat_minor": 5
}
